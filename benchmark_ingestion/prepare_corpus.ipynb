{
 "cells": [
  {
   "cell_type": "markdown",
   "metadata": {},
   "source": [
    "## Prepare corpus"
   ]
  },
  {
   "cell_type": "code",
   "execution_count": null,
   "metadata": {},
   "outputs": [],
   "source": [
    "import json\n",
    "from tqdm import tqdm\n",
    "from datasets import Dataset, load_dataset\n",
    "\n",
    "ds = load_dataset(\"BeIR/nfcorpus\", \"corpus\")[\"corpus\"]\n",
    "\n",
    "with open(\"nfcorpus.jsonl\", \"w\") as f:\n",
    "    for i in tqdm(range(len(ds))):\n",
    "        doc = {\"id\": ds[i][\"_id\"], \"text\": ds[i][\"title\"] + \" \" + ds[i][\"text\"]}\n",
    "        f.write(json.dumps(doc) + \"\\n\")"
   ]
  },
  {
   "cell_type": "markdown",
   "metadata": {},
   "source": [
    "## Prepare index & ingest pipeline"
   ]
  },
  {
   "cell_type": "code",
   "execution_count": null,
   "metadata": {},
   "outputs": [],
   "source": [
    "from utils import get_os_client\n",
    "\n",
    "client = get_os_client(use_aws_auth=False)\n",
    "\n",
    "if client.indices.exists(index=\"test-index\"):\n",
    "    client.indices.delete(index=\"test-index\")\n",
    "client.indices.create(\n",
    "    index=\"test-index\",\n",
    "    body={\n",
    "        \"settings\": {\"default_pipeline\": \"nlp-ingest-pipeline-sparse\"},\n",
    "        \"mappings\": {\n",
    "            \"properties\": {\n",
    "                \"id\": {\"type\": \"text\"},\n",
    "                \"embedding\": {\"type\": \"rank_features\"},\n",
    "                \"text\": {\"type\": \"text\"},\n",
    "            }\n",
    "        },\n",
    "    },\n",
    ")\n",
    "\n",
    "client.transport.perform_request(\n",
    "    method=\"PUT\",\n",
    "    url=\"/_ingest/pipeline/nlp-ingest-pipeline-sparse\",\n",
    "    body={\n",
    "        \"description\": \"An sparse encoding ingest pipeline\",\n",
    "        \"processors\": [\n",
    "            {\n",
    "                \"sparse_encoding\": {\n",
    "                    \"model_id\": \"G3HGgZcBIhjhFXqCQEjZ\",\n",
    "                    \"field_map\": {\"text\": \"embedding\"},\n",
    "                }\n",
    "            }\n",
    "        ],\n",
    "    },\n",
    ")"
   ]
  },
  {
   "cell_type": "markdown",
   "metadata": {},
   "source": [
    "## Prepare qrels and queries"
   ]
  },
  {
   "cell_type": "code",
   "execution_count": null,
   "metadata": {},
   "outputs": [],
   "source": [
    "import datasets\n",
    "import json\n",
    "\n",
    "dataset_name = \"nfcorpus\"\n",
    "queries_raw = datasets.load_dataset(f\"BeIR/{dataset_name}\", \"queries\")[\"queries\"]\n",
    "qrels_raw = datasets.load_dataset(f\"BeIR/{dataset_name}-qrels\")[\"test\"]\n",
    "\n",
    "qrels = {}\n",
    "for item in qrels_raw:\n",
    "    query_id = item[\"query-id\"]\n",
    "    corpus_id = item[\"corpus-id\"]\n",
    "    score = item[\"score\"]\n",
    "\n",
    "    if query_id not in qrels:\n",
    "        qrels[query_id] = {}\n",
    "    qrels[query_id][corpus_id] = score\n",
    "\n",
    "queries_raw = queries_raw.filter(lambda x: x[\"_id\"] in qrels)\n",
    "\n",
    "queries = {}\n",
    "for item in queries_raw:\n",
    "    queries[item[\"_id\"]] = item[\"text\"]\n",
    "\n",
    "with open(f\"{dataset_name}-queries.json\", \"w\") as f:\n",
    "    json.dump(queries, f)\n",
    "\n",
    "with open(f\"{dataset_name}-qrels.json\", \"w\") as f:\n",
    "    json.dump(qrels, f)"
   ]
  }
 ],
 "metadata": {
  "kernelspec": {
   "display_name": "benchmark",
   "language": "python",
   "name": "python3"
  },
  "language_info": {
   "codemirror_mode": {
    "name": "ipython",
    "version": 3
   },
   "file_extension": ".py",
   "mimetype": "text/x-python",
   "name": "python",
   "nbconvert_exporter": "python",
   "pygments_lexer": "ipython3",
   "version": "3.9.21"
  }
 },
 "nbformat": 4,
 "nbformat_minor": 2
}
