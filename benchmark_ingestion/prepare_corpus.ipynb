{
 "cells": [
  {
   "cell_type": "markdown",
   "metadata": {},
   "source": [
    "## Prepare corpus"
   ]
  },
  {
   "cell_type": "code",
   "execution_count": null,
   "metadata": {},
   "outputs": [],
   "source": [
    "import json\n",
    "from tqdm import tqdm\n",
    "from datasets import Dataset, load_dataset\n",
    "\n",
    "ds = load_dataset(\"BeIR/nfcorpus\", \"corpus\")[\"corpus\"]\n",
    "\n",
    "with open(\"nfcorpus.jsonl\", \"w\") as f:\n",
    "    for i in tqdm(range(len(ds))):\n",
    "        doc = {\"id\": ds[i][\"_id\"], \"text\": ds[i][\"text\"]}\n",
    "        f.write(json.dumps(doc) + \"\\n\")"
   ]
  },
  {
   "cell_type": "markdown",
   "metadata": {},
   "source": [
    "## Prepare index & ingest pipeline"
   ]
  },
  {
   "cell_type": "code",
   "execution_count": null,
   "metadata": {},
   "outputs": [],
   "source": [
    "from utils import get_os_client\n",
    "\n",
    "client = get_os_client(use_aws_auth=False)\n",
    "\n",
    "if client.indices.exists(index=\"test-index\"):\n",
    "    client.indices.delete(index=\"test-index\")\n",
    "client.indices.create(\n",
    "    index=\"test-index\",\n",
    "    body={\n",
    "        \"settings\": {\"default_pipeline\": \"nlp-ingest-pipeline-sparse\"},\n",
    "        \"mappings\": {\n",
    "            \"properties\": {\n",
    "                \"id\": {\"type\": \"text\"},\n",
    "                \"embedding\": {\"type\": \"rank_features\"},\n",
    "                \"text\": {\"type\": \"text\"},\n",
    "            }\n",
    "        },\n",
    "    },\n",
    ")\n",
    "\n",
    "client.transport.perform_request(\n",
    "    method=\"PUT\",\n",
    "    url=\"/_ingest/pipeline/nlp-ingest-pipeline-sparse\",\n",
    "    body={\n",
    "        \"description\": \"An sparse encoding ingest pipeline\",\n",
    "        \"processors\": [\n",
    "            {\n",
    "                \"sparse_encoding\": {\n",
    "                    \"model_id\": \"G3HGgZcBIhjhFXqCQEjZ\",\n",
    "                    \"field_map\": {\"text\": \"embedding\"},\n",
    "                }\n",
    "            }\n",
    "        ],\n",
    "    },\n",
    ")"
   ]
  },
  {
   "cell_type": "code",
   "execution_count": null,
   "metadata": {},
   "outputs": [],
   "source": []
  }
 ],
 "metadata": {
  "kernelspec": {
   "display_name": "benchmark",
   "language": "python",
   "name": "python3"
  },
  "language_info": {
   "codemirror_mode": {
    "name": "ipython",
    "version": 3
   },
   "file_extension": ".py",
   "mimetype": "text/x-python",
   "name": "python",
   "nbconvert_exporter": "python",
   "pygments_lexer": "ipython3",
   "version": "3.9.21"
  }
 },
 "nbformat": 4,
 "nbformat_minor": 2
}
